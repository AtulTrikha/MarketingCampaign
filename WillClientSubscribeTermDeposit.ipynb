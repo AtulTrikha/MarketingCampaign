{
 "cells": [
  {
   "cell_type": "markdown",
   "id": "c2103d92",
   "metadata": {},
   "source": [
    "# **Practical Application III: Comparing Classifiers**\n",
    "\n",
    "**Overview**: In this practical application, your goal is to compare the performance of the classifiers we encountered in this section, namely K Nearest Neighbor, Logistic Regression, Decision Trees, and Support Vector Machines.  We will utilize a dataset related to marketing bank products over the telephone.  \n",
    "\n"
   ]
  },
  {
   "cell_type": "markdown",
   "id": "aa3bc663",
   "metadata": {},
   "source": [
    "### **Getting Started**\n",
    "\n",
    "Our dataset comes from the UCI Machine Learning repository [link](https://archive.ics.uci.edu/ml/datasets/bank+marketing).  The data is from a Portugese banking institution and is a collection of the results of multiple marketing campaigns.  We will make use of the article accompanying the dataset [here](CRISP-DM-BANK.pdf) for more information on the data and features.\n",
    "\n"
   ]
  },
  {
   "cell_type": "markdown",
   "id": "55d0d947",
   "metadata": {},
   "source": [
    "### **Problem 1: Understanding the Data**\n",
    "\n",
    "To gain a better understanding of the data, please read the information provided in the UCI link above, and examine the **Materials and Methods** section of the paper.  How many marketing campaigns does this data represent?"
   ]
  },
  {
   "cell_type": "markdown",
   "id": "d3ee945d",
   "metadata": {},
   "source": [
    "### **Solution 1**\n",
    "- The data represents 17 marketing campaigns"
   ]
  },
  {
   "cell_type": "markdown",
   "id": "8884138a",
   "metadata": {},
   "source": [
    "### **Problem 2: Read in the Data**\n",
    "\n",
    "Use pandas to read in the dataset `bank-additional-full.csv` and assign to a meaningful variable name."
   ]
  },
  {
   "cell_type": "code",
   "execution_count": 7,
   "id": "cacaab1a",
   "metadata": {},
   "outputs": [],
   "source": [
    "import pandas as pd\n",
    "import matplotlib.pyplot as plt\n",
    "from sklearn.linear_model import LogisticRegression\n",
    "import pandas as pd\n",
    "import matplotlib.pyplot as plt\n",
    "from sklearn.model_selection import train_test_split\n",
    "from sklearn.metrics import classification_report, ConfusionMatrixDisplay, confusion_matrix, mean_squared_error\n",
    "from sklearn.model_selection import GridSearchCV\n",
    "import numpy as np\n",
    "from sklearn.tree import DecisionTreeClassifier\n",
    "from sklearn.neighbors import KNeighborsClassifier\n",
    "from sklearn.svm import SVC\n",
    "from sklearn.feature_selection import SequentialFeatureSelector\n",
    "from sklearn.linear_model import LinearRegression\n",
    "from sklearn.preprocessing import PolynomialFeatures\n",
    "from sklearn.pipeline import Pipeline\n",
    "from sklearn.preprocessing import LabelEncoder\n",
    "import time\n",
    "from sklearn.inspection import permutation_importance\n",
    "from imblearn.over_sampling import SMOTE"
   ]
  },
  {
   "cell_type": "code",
   "execution_count": 8,
   "id": "21226917",
   "metadata": {},
   "outputs": [],
   "source": [
    "#bank = pd.read_csv('bank/bank.csv', sep=';')\n",
    "bank = pd.read_csv('data/bank-additional-full.csv', sep=';')"
   ]
  },
  {
   "cell_type": "code",
   "execution_count": 9,
   "id": "13e86102",
   "metadata": {},
   "outputs": [
    {
     "data": {
      "text/html": [
       "<div>\n",
       "<style scoped>\n",
       "    .dataframe tbody tr th:only-of-type {\n",
       "        vertical-align: middle;\n",
       "    }\n",
       "\n",
       "    .dataframe tbody tr th {\n",
       "        vertical-align: top;\n",
       "    }\n",
       "\n",
       "    .dataframe thead th {\n",
       "        text-align: right;\n",
       "    }\n",
       "</style>\n",
       "<table border=\"1\" class=\"dataframe\">\n",
       "  <thead>\n",
       "    <tr style=\"text-align: right;\">\n",
       "      <th></th>\n",
       "      <th>age</th>\n",
       "      <th>job</th>\n",
       "      <th>marital</th>\n",
       "      <th>education</th>\n",
       "      <th>default</th>\n",
       "      <th>housing</th>\n",
       "      <th>loan</th>\n",
       "      <th>contact</th>\n",
       "      <th>month</th>\n",
       "      <th>day_of_week</th>\n",
       "      <th>...</th>\n",
       "      <th>campaign</th>\n",
       "      <th>pdays</th>\n",
       "      <th>previous</th>\n",
       "      <th>poutcome</th>\n",
       "      <th>emp.var.rate</th>\n",
       "      <th>cons.price.idx</th>\n",
       "      <th>cons.conf.idx</th>\n",
       "      <th>euribor3m</th>\n",
       "      <th>nr.employed</th>\n",
       "      <th>y</th>\n",
       "    </tr>\n",
       "  </thead>\n",
       "  <tbody>\n",
       "    <tr>\n",
       "      <th>0</th>\n",
       "      <td>56</td>\n",
       "      <td>housemaid</td>\n",
       "      <td>married</td>\n",
       "      <td>basic.4y</td>\n",
       "      <td>no</td>\n",
       "      <td>no</td>\n",
       "      <td>no</td>\n",
       "      <td>telephone</td>\n",
       "      <td>may</td>\n",
       "      <td>mon</td>\n",
       "      <td>...</td>\n",
       "      <td>1</td>\n",
       "      <td>999</td>\n",
       "      <td>0</td>\n",
       "      <td>nonexistent</td>\n",
       "      <td>1.1</td>\n",
       "      <td>93.994</td>\n",
       "      <td>-36.4</td>\n",
       "      <td>4.857</td>\n",
       "      <td>5191.0</td>\n",
       "      <td>no</td>\n",
       "    </tr>\n",
       "    <tr>\n",
       "      <th>1</th>\n",
       "      <td>57</td>\n",
       "      <td>services</td>\n",
       "      <td>married</td>\n",
       "      <td>high.school</td>\n",
       "      <td>unknown</td>\n",
       "      <td>no</td>\n",
       "      <td>no</td>\n",
       "      <td>telephone</td>\n",
       "      <td>may</td>\n",
       "      <td>mon</td>\n",
       "      <td>...</td>\n",
       "      <td>1</td>\n",
       "      <td>999</td>\n",
       "      <td>0</td>\n",
       "      <td>nonexistent</td>\n",
       "      <td>1.1</td>\n",
       "      <td>93.994</td>\n",
       "      <td>-36.4</td>\n",
       "      <td>4.857</td>\n",
       "      <td>5191.0</td>\n",
       "      <td>no</td>\n",
       "    </tr>\n",
       "    <tr>\n",
       "      <th>2</th>\n",
       "      <td>37</td>\n",
       "      <td>services</td>\n",
       "      <td>married</td>\n",
       "      <td>high.school</td>\n",
       "      <td>no</td>\n",
       "      <td>yes</td>\n",
       "      <td>no</td>\n",
       "      <td>telephone</td>\n",
       "      <td>may</td>\n",
       "      <td>mon</td>\n",
       "      <td>...</td>\n",
       "      <td>1</td>\n",
       "      <td>999</td>\n",
       "      <td>0</td>\n",
       "      <td>nonexistent</td>\n",
       "      <td>1.1</td>\n",
       "      <td>93.994</td>\n",
       "      <td>-36.4</td>\n",
       "      <td>4.857</td>\n",
       "      <td>5191.0</td>\n",
       "      <td>no</td>\n",
       "    </tr>\n",
       "    <tr>\n",
       "      <th>3</th>\n",
       "      <td>40</td>\n",
       "      <td>admin.</td>\n",
       "      <td>married</td>\n",
       "      <td>basic.6y</td>\n",
       "      <td>no</td>\n",
       "      <td>no</td>\n",
       "      <td>no</td>\n",
       "      <td>telephone</td>\n",
       "      <td>may</td>\n",
       "      <td>mon</td>\n",
       "      <td>...</td>\n",
       "      <td>1</td>\n",
       "      <td>999</td>\n",
       "      <td>0</td>\n",
       "      <td>nonexistent</td>\n",
       "      <td>1.1</td>\n",
       "      <td>93.994</td>\n",
       "      <td>-36.4</td>\n",
       "      <td>4.857</td>\n",
       "      <td>5191.0</td>\n",
       "      <td>no</td>\n",
       "    </tr>\n",
       "    <tr>\n",
       "      <th>4</th>\n",
       "      <td>56</td>\n",
       "      <td>services</td>\n",
       "      <td>married</td>\n",
       "      <td>high.school</td>\n",
       "      <td>no</td>\n",
       "      <td>no</td>\n",
       "      <td>yes</td>\n",
       "      <td>telephone</td>\n",
       "      <td>may</td>\n",
       "      <td>mon</td>\n",
       "      <td>...</td>\n",
       "      <td>1</td>\n",
       "      <td>999</td>\n",
       "      <td>0</td>\n",
       "      <td>nonexistent</td>\n",
       "      <td>1.1</td>\n",
       "      <td>93.994</td>\n",
       "      <td>-36.4</td>\n",
       "      <td>4.857</td>\n",
       "      <td>5191.0</td>\n",
       "      <td>no</td>\n",
       "    </tr>\n",
       "  </tbody>\n",
       "</table>\n",
       "<p>5 rows × 21 columns</p>\n",
       "</div>"
      ],
      "text/plain": [
       "   age        job  marital    education  default housing loan    contact  \\\n",
       "0   56  housemaid  married     basic.4y       no      no   no  telephone   \n",
       "1   57   services  married  high.school  unknown      no   no  telephone   \n",
       "2   37   services  married  high.school       no     yes   no  telephone   \n",
       "3   40     admin.  married     basic.6y       no      no   no  telephone   \n",
       "4   56   services  married  high.school       no      no  yes  telephone   \n",
       "\n",
       "  month day_of_week  ...  campaign  pdays  previous     poutcome emp.var.rate  \\\n",
       "0   may         mon  ...         1    999         0  nonexistent          1.1   \n",
       "1   may         mon  ...         1    999         0  nonexistent          1.1   \n",
       "2   may         mon  ...         1    999         0  nonexistent          1.1   \n",
       "3   may         mon  ...         1    999         0  nonexistent          1.1   \n",
       "4   may         mon  ...         1    999         0  nonexistent          1.1   \n",
       "\n",
       "   cons.price.idx  cons.conf.idx  euribor3m  nr.employed   y  \n",
       "0          93.994          -36.4      4.857       5191.0  no  \n",
       "1          93.994          -36.4      4.857       5191.0  no  \n",
       "2          93.994          -36.4      4.857       5191.0  no  \n",
       "3          93.994          -36.4      4.857       5191.0  no  \n",
       "4          93.994          -36.4      4.857       5191.0  no  \n",
       "\n",
       "[5 rows x 21 columns]"
      ]
     },
     "execution_count": 9,
     "metadata": {},
     "output_type": "execute_result"
    }
   ],
   "source": [
    "bank.head()"
   ]
  },
  {
   "cell_type": "markdown",
   "id": "6f98153f",
   "metadata": {},
   "source": [
    "**Display the dataset information**"
   ]
  },
  {
   "cell_type": "code",
   "execution_count": 10,
   "id": "f2a0e374",
   "metadata": {},
   "outputs": [
    {
     "name": "stdout",
     "output_type": "stream",
     "text": [
      "<class 'pandas.core.frame.DataFrame'>\n",
      "RangeIndex: 41188 entries, 0 to 41187\n",
      "Data columns (total 21 columns):\n",
      " #   Column          Non-Null Count  Dtype  \n",
      "---  ------          --------------  -----  \n",
      " 0   age             41188 non-null  int64  \n",
      " 1   job             41188 non-null  object \n",
      " 2   marital         41188 non-null  object \n",
      " 3   education       41188 non-null  object \n",
      " 4   default         41188 non-null  object \n",
      " 5   housing         41188 non-null  object \n",
      " 6   loan            41188 non-null  object \n",
      " 7   contact         41188 non-null  object \n",
      " 8   month           41188 non-null  object \n",
      " 9   day_of_week     41188 non-null  object \n",
      " 10  duration        41188 non-null  int64  \n",
      " 11  campaign        41188 non-null  int64  \n",
      " 12  pdays           41188 non-null  int64  \n",
      " 13  previous        41188 non-null  int64  \n",
      " 14  poutcome        41188 non-null  object \n",
      " 15  emp.var.rate    41188 non-null  float64\n",
      " 16  cons.price.idx  41188 non-null  float64\n",
      " 17  cons.conf.idx   41188 non-null  float64\n",
      " 18  euribor3m       41188 non-null  float64\n",
      " 19  nr.employed     41188 non-null  float64\n",
      " 20  y               41188 non-null  object \n",
      "dtypes: float64(5), int64(5), object(11)\n",
      "memory usage: 6.6+ MB\n"
     ]
    }
   ],
   "source": [
    "bank.info()"
   ]
  },
  {
   "cell_type": "code",
   "execution_count": 11,
   "id": "5bdc2575",
   "metadata": {},
   "outputs": [],
   "source": [
    "#bank = pd.read_csv('bank/bank.csv', sep=';')"
   ]
  },
  {
   "cell_type": "code",
   "execution_count": 12,
   "id": "8634aecc",
   "metadata": {},
   "outputs": [
    {
     "data": {
      "text/html": [
       "<div>\n",
       "<style scoped>\n",
       "    .dataframe tbody tr th:only-of-type {\n",
       "        vertical-align: middle;\n",
       "    }\n",
       "\n",
       "    .dataframe tbody tr th {\n",
       "        vertical-align: top;\n",
       "    }\n",
       "\n",
       "    .dataframe thead th {\n",
       "        text-align: right;\n",
       "    }\n",
       "</style>\n",
       "<table border=\"1\" class=\"dataframe\">\n",
       "  <thead>\n",
       "    <tr style=\"text-align: right;\">\n",
       "      <th></th>\n",
       "      <th>age</th>\n",
       "      <th>job</th>\n",
       "      <th>marital</th>\n",
       "      <th>education</th>\n",
       "      <th>default</th>\n",
       "      <th>housing</th>\n",
       "      <th>loan</th>\n",
       "      <th>contact</th>\n",
       "      <th>month</th>\n",
       "      <th>day_of_week</th>\n",
       "      <th>...</th>\n",
       "      <th>campaign</th>\n",
       "      <th>pdays</th>\n",
       "      <th>previous</th>\n",
       "      <th>poutcome</th>\n",
       "      <th>emp.var.rate</th>\n",
       "      <th>cons.price.idx</th>\n",
       "      <th>cons.conf.idx</th>\n",
       "      <th>euribor3m</th>\n",
       "      <th>nr.employed</th>\n",
       "      <th>y</th>\n",
       "    </tr>\n",
       "  </thead>\n",
       "  <tbody>\n",
       "    <tr>\n",
       "      <th>0</th>\n",
       "      <td>56</td>\n",
       "      <td>housemaid</td>\n",
       "      <td>married</td>\n",
       "      <td>basic.4y</td>\n",
       "      <td>no</td>\n",
       "      <td>no</td>\n",
       "      <td>no</td>\n",
       "      <td>telephone</td>\n",
       "      <td>may</td>\n",
       "      <td>mon</td>\n",
       "      <td>...</td>\n",
       "      <td>1</td>\n",
       "      <td>999</td>\n",
       "      <td>0</td>\n",
       "      <td>nonexistent</td>\n",
       "      <td>1.1</td>\n",
       "      <td>93.994</td>\n",
       "      <td>-36.4</td>\n",
       "      <td>4.857</td>\n",
       "      <td>5191.0</td>\n",
       "      <td>no</td>\n",
       "    </tr>\n",
       "    <tr>\n",
       "      <th>1</th>\n",
       "      <td>57</td>\n",
       "      <td>services</td>\n",
       "      <td>married</td>\n",
       "      <td>high.school</td>\n",
       "      <td>unknown</td>\n",
       "      <td>no</td>\n",
       "      <td>no</td>\n",
       "      <td>telephone</td>\n",
       "      <td>may</td>\n",
       "      <td>mon</td>\n",
       "      <td>...</td>\n",
       "      <td>1</td>\n",
       "      <td>999</td>\n",
       "      <td>0</td>\n",
       "      <td>nonexistent</td>\n",
       "      <td>1.1</td>\n",
       "      <td>93.994</td>\n",
       "      <td>-36.4</td>\n",
       "      <td>4.857</td>\n",
       "      <td>5191.0</td>\n",
       "      <td>no</td>\n",
       "    </tr>\n",
       "  </tbody>\n",
       "</table>\n",
       "<p>2 rows × 21 columns</p>\n",
       "</div>"
      ],
      "text/plain": [
       "   age        job  marital    education  default housing loan    contact  \\\n",
       "0   56  housemaid  married     basic.4y       no      no   no  telephone   \n",
       "1   57   services  married  high.school  unknown      no   no  telephone   \n",
       "\n",
       "  month day_of_week  ...  campaign  pdays  previous     poutcome emp.var.rate  \\\n",
       "0   may         mon  ...         1    999         0  nonexistent          1.1   \n",
       "1   may         mon  ...         1    999         0  nonexistent          1.1   \n",
       "\n",
       "   cons.price.idx  cons.conf.idx  euribor3m  nr.employed   y  \n",
       "0          93.994          -36.4      4.857       5191.0  no  \n",
       "1          93.994          -36.4      4.857       5191.0  no  \n",
       "\n",
       "[2 rows x 21 columns]"
      ]
     },
     "execution_count": 12,
     "metadata": {},
     "output_type": "execute_result"
    }
   ],
   "source": [
    "bank.head(2)"
   ]
  },
  {
   "cell_type": "code",
   "execution_count": 13,
   "id": "b02299a2",
   "metadata": {},
   "outputs": [],
   "source": [
    "#X = bank[['age', 'balance', 'day', 'duration', 'campaign', 'pdays', 'previous']]\n",
    "#y = np.where(bank.y == 'yes', 1, 0)"
   ]
  },
  {
   "cell_type": "markdown",
   "id": "a07e5232",
   "metadata": {},
   "source": [
    "**Select the columns to use**"
   ]
  },
  {
   "cell_type": "code",
   "execution_count": 14,
   "id": "2fdc6d9f",
   "metadata": {},
   "outputs": [],
   "source": [
    "XX = bank[['age', 'job', 'marital', 'education', 'default', 'housing', 'loan', 'y']]\n",
    "X = XX.drop(['y'], axis=1)\n",
    "y = np.where(XX.y == 'yes', 1, 0)\n"
   ]
  },
  {
   "cell_type": "markdown",
   "id": "968c4841",
   "metadata": {},
   "source": [
    "**Encode the columms where needed**"
   ]
  },
  {
   "cell_type": "code",
   "execution_count": 15,
   "id": "26b851fe",
   "metadata": {},
   "outputs": [],
   "source": [
    "le = LabelEncoder()"
   ]
  },
  {
   "cell_type": "code",
   "execution_count": 16,
   "id": "b0db5496",
   "metadata": {},
   "outputs": [],
   "source": [
    "X.job = le.fit_transform(X.job)\n",
    "X.marital = le.fit_transform(X.marital)\n",
    "X.education = le.fit_transform(X.education)\n",
    "X.default = le.fit_transform(X.default)\n",
    "X.housing = le.fit_transform(X.housing)\n",
    "X.loan = le.fit_transform(X.loan)"
   ]
  },
  {
   "cell_type": "markdown",
   "id": "64a181af",
   "metadata": {},
   "source": [
    "**Create the correlation matrix**"
   ]
  },
  {
   "cell_type": "code",
   "execution_count": 17,
   "id": "9093c876",
   "metadata": {},
   "outputs": [
    {
     "data": {
      "text/html": [
       "<div>\n",
       "<style scoped>\n",
       "    .dataframe tbody tr th:only-of-type {\n",
       "        vertical-align: middle;\n",
       "    }\n",
       "\n",
       "    .dataframe tbody tr th {\n",
       "        vertical-align: top;\n",
       "    }\n",
       "\n",
       "    .dataframe thead th {\n",
       "        text-align: right;\n",
       "    }\n",
       "</style>\n",
       "<table border=\"1\" class=\"dataframe\">\n",
       "  <thead>\n",
       "    <tr style=\"text-align: right;\">\n",
       "      <th></th>\n",
       "      <th>age</th>\n",
       "      <th>job</th>\n",
       "      <th>marital</th>\n",
       "      <th>education</th>\n",
       "      <th>default</th>\n",
       "      <th>housing</th>\n",
       "      <th>loan</th>\n",
       "    </tr>\n",
       "  </thead>\n",
       "  <tbody>\n",
       "    <tr>\n",
       "      <th>age</th>\n",
       "      <td>1.000000</td>\n",
       "      <td>0.001250</td>\n",
       "      <td>-0.389753</td>\n",
       "      <td>-0.117892</td>\n",
       "      <td>0.164965</td>\n",
       "      <td>-0.001603</td>\n",
       "      <td>-0.007368</td>\n",
       "    </tr>\n",
       "    <tr>\n",
       "      <th>job</th>\n",
       "      <td>0.001250</td>\n",
       "      <td>1.000000</td>\n",
       "      <td>0.027897</td>\n",
       "      <td>0.134121</td>\n",
       "      <td>-0.028277</td>\n",
       "      <td>0.006962</td>\n",
       "      <td>-0.010209</td>\n",
       "    </tr>\n",
       "    <tr>\n",
       "      <th>marital</th>\n",
       "      <td>-0.389753</td>\n",
       "      <td>0.027897</td>\n",
       "      <td>1.000000</td>\n",
       "      <td>0.109220</td>\n",
       "      <td>-0.079450</td>\n",
       "      <td>0.010467</td>\n",
       "      <td>0.005788</td>\n",
       "    </tr>\n",
       "    <tr>\n",
       "      <th>education</th>\n",
       "      <td>-0.117892</td>\n",
       "      <td>0.134121</td>\n",
       "      <td>0.109220</td>\n",
       "      <td>1.000000</td>\n",
       "      <td>-0.186859</td>\n",
       "      <td>0.016825</td>\n",
       "      <td>0.006384</td>\n",
       "    </tr>\n",
       "    <tr>\n",
       "      <th>default</th>\n",
       "      <td>0.164965</td>\n",
       "      <td>-0.028277</td>\n",
       "      <td>-0.079450</td>\n",
       "      <td>-0.186859</td>\n",
       "      <td>1.000000</td>\n",
       "      <td>-0.015815</td>\n",
       "      <td>-0.003782</td>\n",
       "    </tr>\n",
       "    <tr>\n",
       "      <th>housing</th>\n",
       "      <td>-0.001603</td>\n",
       "      <td>0.006962</td>\n",
       "      <td>0.010467</td>\n",
       "      <td>0.016825</td>\n",
       "      <td>-0.015815</td>\n",
       "      <td>1.000000</td>\n",
       "      <td>0.044296</td>\n",
       "    </tr>\n",
       "    <tr>\n",
       "      <th>loan</th>\n",
       "      <td>-0.007368</td>\n",
       "      <td>-0.010209</td>\n",
       "      <td>0.005788</td>\n",
       "      <td>0.006384</td>\n",
       "      <td>-0.003782</td>\n",
       "      <td>0.044296</td>\n",
       "      <td>1.000000</td>\n",
       "    </tr>\n",
       "  </tbody>\n",
       "</table>\n",
       "</div>"
      ],
      "text/plain": [
       "                age       job   marital  education   default   housing  \\\n",
       "age        1.000000  0.001250 -0.389753  -0.117892  0.164965 -0.001603   \n",
       "job        0.001250  1.000000  0.027897   0.134121 -0.028277  0.006962   \n",
       "marital   -0.389753  0.027897  1.000000   0.109220 -0.079450  0.010467   \n",
       "education -0.117892  0.134121  0.109220   1.000000 -0.186859  0.016825   \n",
       "default    0.164965 -0.028277 -0.079450  -0.186859  1.000000 -0.015815   \n",
       "housing   -0.001603  0.006962  0.010467   0.016825 -0.015815  1.000000   \n",
       "loan      -0.007368 -0.010209  0.005788   0.006384 -0.003782  0.044296   \n",
       "\n",
       "               loan  \n",
       "age       -0.007368  \n",
       "job       -0.010209  \n",
       "marital    0.005788  \n",
       "education  0.006384  \n",
       "default   -0.003782  \n",
       "housing    0.044296  \n",
       "loan       1.000000  "
      ]
     },
     "execution_count": 17,
     "metadata": {},
     "output_type": "execute_result"
    }
   ],
   "source": [
    "X.corr()"
   ]
  },
  {
   "cell_type": "markdown",
   "id": "c6fed6a8",
   "metadata": {},
   "source": [
    "**Use SMOTE to handle imbalanced classes**"
   ]
  },
  {
   "cell_type": "code",
   "execution_count": 18,
   "id": "028fc0b5",
   "metadata": {},
   "outputs": [],
   "source": [
    "oversample = SMOTE()\n",
    "X,y = oversample.fit_resample(X,y)"
   ]
  },
  {
   "cell_type": "code",
   "execution_count": 19,
   "id": "a4fd5911",
   "metadata": {},
   "outputs": [],
   "source": [
    "X_train, X_test, y_train, y_test = train_test_split(X, y, random_state=42, test_size = 0.20)"
   ]
  },
  {
   "cell_type": "code",
   "execution_count": 20,
   "id": "2462ff8b",
   "metadata": {},
   "outputs": [
    {
     "data": {
      "text/html": [
       "<div>\n",
       "<style scoped>\n",
       "    .dataframe tbody tr th:only-of-type {\n",
       "        vertical-align: middle;\n",
       "    }\n",
       "\n",
       "    .dataframe tbody tr th {\n",
       "        vertical-align: top;\n",
       "    }\n",
       "\n",
       "    .dataframe thead th {\n",
       "        text-align: right;\n",
       "    }\n",
       "</style>\n",
       "<table border=\"1\" class=\"dataframe\">\n",
       "  <thead>\n",
       "    <tr style=\"text-align: right;\">\n",
       "      <th></th>\n",
       "      <th>age</th>\n",
       "      <th>job</th>\n",
       "      <th>marital</th>\n",
       "      <th>education</th>\n",
       "      <th>default</th>\n",
       "      <th>housing</th>\n",
       "      <th>loan</th>\n",
       "    </tr>\n",
       "  </thead>\n",
       "  <tbody>\n",
       "    <tr>\n",
       "      <th>14543</th>\n",
       "      <td>35</td>\n",
       "      <td>7</td>\n",
       "      <td>1</td>\n",
       "      <td>3</td>\n",
       "      <td>0</td>\n",
       "      <td>2</td>\n",
       "      <td>0</td>\n",
       "    </tr>\n",
       "    <tr>\n",
       "      <th>56260</th>\n",
       "      <td>55</td>\n",
       "      <td>1</td>\n",
       "      <td>1</td>\n",
       "      <td>2</td>\n",
       "      <td>0</td>\n",
       "      <td>0</td>\n",
       "      <td>0</td>\n",
       "    </tr>\n",
       "  </tbody>\n",
       "</table>\n",
       "</div>"
      ],
      "text/plain": [
       "       age  job  marital  education  default  housing  loan\n",
       "14543   35    7        1          3        0        2     0\n",
       "56260   55    1        1          2        0        0     0"
      ]
     },
     "execution_count": 20,
     "metadata": {},
     "output_type": "execute_result"
    }
   ],
   "source": [
    "X_train.head(2)"
   ]
  },
  {
   "cell_type": "markdown",
   "id": "d3023a9e",
   "metadata": {},
   "source": [
    "### **Explore: Logistic Regression Classifier**"
   ]
  },
  {
   "cell_type": "code",
   "execution_count": 21,
   "id": "7c8b0d7d",
   "metadata": {},
   "outputs": [],
   "source": [
    "start = time.time()\n",
    "logreg = LogisticRegression(random_state=42).fit(X_train, y_train)\n",
    "stop = time.time()\n",
    "logreg_train_time = stop - start"
   ]
  },
  {
   "cell_type": "markdown",
   "id": "b90ffa32",
   "metadata": {},
   "source": [
    "**Get the Train and Test MSEs**"
   ]
  },
  {
   "cell_type": "code",
   "execution_count": 22,
   "id": "a45119c0",
   "metadata": {},
   "outputs": [
    {
     "name": "stdout",
     "output_type": "stream",
     "text": [
      "Classification report for balanced classes \n",
      "               precision    recall  f1-score   support\n",
      "\n",
      "           0       0.71      0.34      0.46      7332\n",
      "           1       0.56      0.86      0.68      7288\n",
      "\n",
      "    accuracy                           0.60     14620\n",
      "   macro avg       0.64      0.60      0.57     14620\n",
      "weighted avg       0.64      0.60      0.57     14620\n",
      "\n",
      "Train MSE: 0.4031568506737807\n",
      "Test MSE: 0.40095759233926126\n"
     ]
    }
   ],
   "source": [
    "train_preds = logreg.predict(X_train)\n",
    "test_preds = logreg.predict(X_test)\n",
    "\n",
    "print('Classification report for balanced classes \\n',classification_report(y_test,test_preds))\n",
    "\n",
    "test_mse = mean_squared_error(test_preds, y_test)\n",
    "train_mse = mean_squared_error(train_preds, y_train)\n",
    "print(\"Train MSE:\", train_mse)\n",
    "print(\"Test MSE:\", test_mse)"
   ]
  },
  {
   "cell_type": "code",
   "execution_count": 23,
   "id": "58b7e44c",
   "metadata": {},
   "outputs": [
    {
     "data": {
      "text/plain": [
       "{'C': 1.0,\n",
       " 'class_weight': None,\n",
       " 'dual': False,\n",
       " 'fit_intercept': True,\n",
       " 'intercept_scaling': 1,\n",
       " 'l1_ratio': None,\n",
       " 'max_iter': 100,\n",
       " 'multi_class': 'auto',\n",
       " 'n_jobs': None,\n",
       " 'penalty': 'l2',\n",
       " 'random_state': 42,\n",
       " 'solver': 'lbfgs',\n",
       " 'tol': 0.0001,\n",
       " 'verbose': 0,\n",
       " 'warm_start': False}"
      ]
     },
     "execution_count": 23,
     "metadata": {},
     "output_type": "execute_result"
    }
   ],
   "source": [
    "logreg.get_params()"
   ]
  },
  {
   "cell_type": "markdown",
   "id": "33f8b8d0",
   "metadata": {},
   "source": [
    "**Plot the confusion matrix**"
   ]
  },
  {
   "cell_type": "code",
   "execution_count": 26,
   "id": "ea9afd03",
   "metadata": {},
   "outputs": [
    {
     "data": {
      "text/plain": [
       "<sklearn.metrics._plot.confusion_matrix.ConfusionMatrixDisplay at 0x20b665472d0>"
      ]
     },
     "execution_count": 26,
     "metadata": {},
     "output_type": "execute_result"
    },
    {
     "data": {
      "image/png": "[encoded data removed]",
      "text/plain": [
       "<Figure size 640x480 with 2 Axes>"
      ]
     },
     "metadata": {},
     "output_type": "display_data"
    }
   ],
   "source": [
    "ConfusionMatrixDisplay.from_estimator(logreg,X_test,y_test)"
   ]
  },
  {
   "cell_type": "code",
   "execution_count": 27,
   "id": "ab128046",
   "metadata": {},
   "outputs": [],
   "source": [
    "logreg_tp = 6202\n",
    "logreg_tn = 2486\n",
    "logreg_fp = 4846\n",
    "logreg_fn = 1086"
   ]
  },
  {
   "cell_type": "code",
   "execution_count": 28,
   "id": "9ef4b7df",
   "metadata": {},
   "outputs": [
    {
     "name": "stdout",
     "output_type": "stream",
     "text": [
      "59.904\n"
     ]
    },
    {
     "data": {
      "text/plain": [
       "0.5990424076607387"
      ]
     },
     "execution_count": 28,
     "metadata": {},
     "output_type": "execute_result"
    }
   ],
   "source": [
    "logistic_score_test = logreg.score(X_test, y_test)\n",
    "print(\"{:.3f}\".format(logistic_score_test*100))\n",
    "logistic_score_test"
   ]
  },
  {
   "cell_type": "markdown",
   "id": "ca1ded13",
   "metadata": {},
   "source": [
    "**Get the accuracy, precision, recall and specificity**"
   ]
  },
  {
   "cell_type": "code",
   "execution_count": 29,
   "id": "d94fec5f",
   "metadata": {},
   "outputs": [
    {
     "name": "stdout",
     "output_type": "stream",
     "text": [
      "Mean Fit Time:  0.24433279037475586\n",
      "LogReg Train Score: 0.5958170873520761\n",
      "LogReg Test Score: 0.5971272229822161\n",
      " \n",
      "Accuracy = \t 59.4254445964\n",
      "Precision = \t 56.1368573497\n",
      "Recall = \t 85.0987925357\n",
      "Specificity = \t 33.9061647572\n",
      " \n",
      "Train MSE: 0.4031568506737807\n",
      "Test MSE: 0.40095759233926126\n"
     ]
    }
   ],
   "source": [
    "solvers = ['newton-cg', 'lbfgs', 'liblinear']\n",
    "solvers = ['lbfgs']\n",
    "\n",
    "penalty = ['l2']\n",
    "c_values = [10, 1.0, 0.1, 0.01]\n",
    "grid = dict(solver=solvers,penalty=penalty,C=c_values)\n",
    "\n",
    "logreg_grid = GridSearchCV(logreg, param_grid=grid, n_jobs=-1, scoring='accuracy',error_score=0).fit(X_train, y_train)\n",
    "logreg_cv_res = logreg_grid.cv_results_\n",
    "\n",
    "logreg_mean_fit_time = logreg_cv_res['mean_fit_time'][0]\n",
    "\n",
    "print(\"Mean Fit Time: \", logreg_mean_fit_time)\n",
    "\n",
    "logreg_grid_score_train = logreg_grid.score(X_train, y_train)\n",
    "logreg_grid_score_test = logreg_grid.score(X_test, y_test)\n",
    "print(\"LogReg Train Score:\", logreg_grid_score_train)\n",
    "print(\"LogReg Test Score:\", logreg_grid_score_test)\n",
    "print(\" \")\n",
    "\n",
    "logreg_acc = (logreg_tp+logreg_tn)/(logreg_tp+logreg_tn+logreg_fp+logreg_fn)*100\n",
    "logreg_pre = (logreg_tp)/(logreg_tp+logreg_fp)*100\n",
    "logreg_rec = (logreg_tp)/(logreg_tp+logreg_fn)*100\n",
    "logreg_spe = (logreg_tn)/(logreg_tn+logreg_fp)*100\n",
    "\n",
    "print(\"Accuracy = \\t\", \"{:.10f}\".format(logreg_acc))\n",
    "print(\"Precision = \\t\", \"{:.10f}\".format(logreg_pre))\n",
    "print(\"Recall = \\t\", \"{:.10f}\".format(logreg_rec))\n",
    "print(\"Specificity = \\t\", \"{:.10f}\".format(logreg_spe))\n",
    "print(\" \")\n",
    "print(\"Train MSE:\", train_mse)\n",
    "print(\"Test MSE:\", test_mse)"
   ]
  },
  {
   "cell_type": "markdown",
   "id": "c30fcd5b",
   "metadata": {},
   "source": [
    "**Explore the feature importance using permutation importance**"
   ]
  },
  {
   "cell_type": "code",
   "execution_count": 30,
   "id": "1a4d7de3",
   "metadata": {},
   "outputs": [
    {
     "data": {
      "text/html": [
       "<div>\n",
       "<style scoped>\n",
       "    .dataframe tbody tr th:only-of-type {\n",
       "        vertical-align: middle;\n",
       "    }\n",
       "\n",
       "    .dataframe tbody tr th {\n",
       "        vertical-align: top;\n",
       "    }\n",
       "\n",
       "    .dataframe thead th {\n",
       "        text-align: right;\n",
       "    }\n",
       "</style>\n",
       "<table border=\"1\" class=\"dataframe\">\n",
       "  <thead>\n",
       "    <tr style=\"text-align: right;\">\n",
       "      <th></th>\n",
       "      <th>Variable</th>\n",
       "      <th>Score</th>\n",
       "    </tr>\n",
       "  </thead>\n",
       "  <tbody>\n",
       "    <tr>\n",
       "      <th>4</th>\n",
       "      <td>default</td>\n",
       "      <td>0.081327</td>\n",
       "    </tr>\n",
       "    <tr>\n",
       "      <th>6</th>\n",
       "      <td>loan</td>\n",
       "      <td>0.010903</td>\n",
       "    </tr>\n",
       "    <tr>\n",
       "      <th>3</th>\n",
       "      <td>education</td>\n",
       "      <td>0.009713</td>\n",
       "    </tr>\n",
       "    <tr>\n",
       "      <th>0</th>\n",
       "      <td>age</td>\n",
       "      <td>0.004993</td>\n",
       "    </tr>\n",
       "    <tr>\n",
       "      <th>1</th>\n",
       "      <td>job</td>\n",
       "      <td>0.004248</td>\n",
       "    </tr>\n",
       "    <tr>\n",
       "      <th>2</th>\n",
       "      <td>marital</td>\n",
       "      <td>0.003577</td>\n",
       "    </tr>\n",
       "    <tr>\n",
       "      <th>5</th>\n",
       "      <td>housing</td>\n",
       "      <td>-0.000404</td>\n",
       "    </tr>\n",
       "  </tbody>\n",
       "</table>\n",
       "</div>"
      ],
      "text/plain": [
       "    Variable     Score\n",
       "4    default  0.081327\n",
       "6       loan  0.010903\n",
       "3  education  0.009713\n",
       "0        age  0.004993\n",
       "1        job  0.004248\n",
       "2    marital  0.003577\n",
       "5    housing -0.000404"
      ]
     },
     "execution_count": 30,
     "metadata": {},
     "output_type": "execute_result"
    }
   ],
   "source": [
    "from sklearn.inspection import permutation_importance\n",
    "r = permutation_importance(logreg_grid, X_test, y_test, n_repeats = 10, random_state = 123)\n",
    "pd.DataFrame({\"Variable\":X.columns, \"Score\":r.importances_mean}).sort_values(by = \"Score\", ascending = False)"
   ]
  },
  {
   "cell_type": "markdown",
   "id": "bd0fc568",
   "metadata": {},
   "source": [
    "### **Explore: Decision Tree Classifier**"
   ]
  },
  {
   "cell_type": "code",
   "execution_count": 31,
   "id": "650cc081",
   "metadata": {},
   "outputs": [],
   "source": [
    "from sklearn.tree import DecisionTreeClassifier\n",
    "start = time.time()\n",
    "dtree = DecisionTreeClassifier(random_state=42).fit(X_train, y_train)\n",
    "stop = time.time()\n",
    "dtree_train_time = stop - start"
   ]
  },
  {
   "cell_type": "markdown",
   "id": "76416e07",
   "metadata": {},
   "source": [
    "**Get the Train and Test MSEs**"
   ]
  },
  {
   "cell_type": "code",
   "execution_count": 32,
   "id": "d7985192",
   "metadata": {},
   "outputs": [
    {
     "name": "stdout",
     "output_type": "stream",
     "text": [
      "Classification report for balanced classes \n",
      "               precision    recall  f1-score   support\n",
      "\n",
      "           0       0.80      0.70      0.75      7332\n",
      "           1       0.73      0.83      0.78      7288\n",
      "\n",
      "    accuracy                           0.76     14620\n",
      "   macro avg       0.77      0.76      0.76     14620\n",
      "weighted avg       0.77      0.76      0.76     14620\n",
      "\n",
      "DTree Train MSE: 0.18787194746562694\n",
      "DTree Test MSE: 0.2387140902872777\n"
     ]
    }
   ],
   "source": [
    "dtree_train_preds = dtree.predict(X_train)\n",
    "dtree_test_preds = dtree.predict(X_test)\n",
    "\n",
    "print('Classification report for balanced classes \\n',classification_report(y_test,dtree_test_preds))\n",
    "\n",
    "\n",
    "dtree_test_mse = mean_squared_error(dtree_test_preds, y_test)\n",
    "dtree_train_mse = mean_squared_error(dtree_train_preds, y_train)\n",
    "\n",
    "print(\"DTree Train MSE:\", dtree_train_mse)\n",
    "print(\"DTree Test MSE:\", dtree_test_mse)"
   ]
  },
  {
   "cell_type": "code",
   "execution_count": 33,
   "id": "10f1f2be",
   "metadata": {},
   "outputs": [
    {
     "data": {
      "text/plain": [
       "{'ccp_alpha': 0.0,\n",
       " 'class_weight': None,\n",
       " 'criterion': 'gini',\n",
       " 'max_depth': None,\n",
       " 'max_features': None,\n",
       " 'max_leaf_nodes': None,\n",
       " 'min_impurity_decrease': 0.0,\n",
       " 'min_samples_leaf': 1,\n",
       " 'min_samples_split': 2,\n",
       " 'min_weight_fraction_leaf': 0.0,\n",
       " 'random_state': 42,\n",
       " 'splitter': 'best'}"
      ]
     },
     "execution_count": 33,
     "metadata": {},
     "output_type": "execute_result"
    }
   ],
   "source": [
    "dtree.get_params()"
   ]
  },
  {
   "cell_type": "markdown",
   "id": "cd07beba",
   "metadata": {},
   "source": [
    "**Plot the confusion matrix**"
   ]
  },
  {
   "cell_type": "code",
   "execution_count": 34,
   "id": "2a9cca9b",
   "metadata": {},
   "outputs": [
    {
     "data": {
      "text/plain": [
       "<sklearn.metrics._plot.confusion_matrix.ConfusionMatrixDisplay at 0x20b6571b510>"
      ]
     },
     "execution_count": 34,
     "metadata": {},
     "output_type": "execute_result"
    },
    {
     "data": {
      "image/png": "[encoded data removed]",
      "text/plain": [
       "<Figure size 640x480 with 2 Axes>"
      ]
     },
     "metadata": {},
     "output_type": "display_data"
    }
   ],
   "source": [
    "ConfusionMatrixDisplay.from_estimator(dtree,X_test,y_test)"
   ]
  },
  {
   "cell_type": "code",
   "execution_count": 35,
   "id": "0352d408",
   "metadata": {},
   "outputs": [],
   "source": [
    "dtree_tp = 6023\n",
    "dtree_tn = 5077\n",
    "dtree_fp = 2255\n",
    "dtree_fn = 1265"
   ]
  },
  {
   "cell_type": "markdown",
   "id": "25b3e8a9",
   "metadata": {},
   "source": [
    "**Get the accuracy, precision, recall and specificity**"
   ]
  },
  {
   "cell_type": "code",
   "execution_count": 36,
   "id": "3036e152",
   "metadata": {},
   "outputs": [
    {
     "name": "stdout",
     "output_type": "stream",
     "text": [
      "Mean Fit Time:  0.3711916446685791\n",
      "LogReg Train Score: 0.5921061632122581\n",
      "LogReg Test Score: 0.5917236662106703\n",
      " \n",
      "Accuracy = \t 75.9233926129\n",
      "Precision = \t 72.7591205605\n",
      "Recall = \t 82.6427003293\n",
      "Specificity = \t 69.2444080742\n",
      " \n",
      "Train MSE: 0.18787194746562694\n",
      "Test MSE: 0.2387140902872777\n"
     ]
    }
   ],
   "source": [
    "splitter = ['best']\n",
    "\n",
    "criterion = ['gini']\n",
    "ccp_alphas = [10, 1.0, 0.1, 0.01]\n",
    "grid = dict(splitter=splitter,criterion=criterion,ccp_alpha=ccp_alphas)\n",
    "\n",
    "dtree_grid = GridSearchCV(dtree, param_grid=grid, n_jobs=-1, scoring='accuracy',error_score=0).fit(X_train, y_train)\n",
    "dtree_cv_res = dtree_grid.cv_results_\n",
    "\n",
    "dtree_mean_fit_time = dtree_cv_res['mean_fit_time'][0]\n",
    "\n",
    "print(\"Mean Fit Time: \", dtree_mean_fit_time)\n",
    "\n",
    "dtree_grid_score_train = dtree_grid.score(X_train, y_train)\n",
    "dtree_grid_score_test = dtree_grid.score(X_test, y_test)\n",
    "print(\"LogReg Train Score:\", dtree_grid_score_train)\n",
    "print(\"LogReg Test Score:\", dtree_grid_score_test)\n",
    "print(\" \")\n",
    "\n",
    "\n",
    "dtree_acc = (dtree_tp+dtree_tn)/(dtree_tp + dtree_tn + dtree_fp + dtree_fn)*100\n",
    "dtree_pre = (dtree_tp)/(dtree_tp + dtree_fp)*100\n",
    "dtree_rec = (dtree_tp)/(dtree_tp + dtree_fn)*100\n",
    "dtree_spe = (dtree_tn)/(dtree_tn + dtree_fp)*100\n",
    "\n",
    "\n",
    "print(\"Accuracy = \\t\", \"{:.10f}\".format(dtree_acc))\n",
    "print(\"Precision = \\t\", \"{:.10f}\".format(dtree_pre))\n",
    "print(\"Recall = \\t\", \"{:.10f}\".format(dtree_rec))\n",
    "print(\"Specificity = \\t\", \"{:.10f}\".format(dtree_spe))\n",
    "print(\" \")\n",
    "print(\"Train MSE:\", dtree_train_mse)\n",
    "print(\"Test MSE:\", dtree_test_mse)"
   ]
  },
  {
   "cell_type": "markdown",
   "id": "8ecaa6d0",
   "metadata": {},
   "source": [
    "**Get the feature importance using the permutation importance**"
   ]
  },
  {
   "cell_type": "code",
   "execution_count": 37,
   "id": "fcca1628",
   "metadata": {},
   "outputs": [
    {
     "data": {
      "text/html": [
       "<div>\n",
       "<style scoped>\n",
       "    .dataframe tbody tr th:only-of-type {\n",
       "        vertical-align: middle;\n",
       "    }\n",
       "\n",
       "    .dataframe tbody tr th {\n",
       "        vertical-align: top;\n",
       "    }\n",
       "\n",
       "    .dataframe thead th {\n",
       "        text-align: right;\n",
       "    }\n",
       "</style>\n",
       "<table border=\"1\" class=\"dataframe\">\n",
       "  <thead>\n",
       "    <tr style=\"text-align: right;\">\n",
       "      <th></th>\n",
       "      <th>Variable</th>\n",
       "      <th>Score</th>\n",
       "    </tr>\n",
       "  </thead>\n",
       "  <tbody>\n",
       "    <tr>\n",
       "      <th>4</th>\n",
       "      <td>default</td>\n",
       "      <td>0.094145</td>\n",
       "    </tr>\n",
       "    <tr>\n",
       "      <th>0</th>\n",
       "      <td>age</td>\n",
       "      <td>0.000000</td>\n",
       "    </tr>\n",
       "    <tr>\n",
       "      <th>1</th>\n",
       "      <td>job</td>\n",
       "      <td>0.000000</td>\n",
       "    </tr>\n",
       "    <tr>\n",
       "      <th>2</th>\n",
       "      <td>marital</td>\n",
       "      <td>0.000000</td>\n",
       "    </tr>\n",
       "    <tr>\n",
       "      <th>3</th>\n",
       "      <td>education</td>\n",
       "      <td>0.000000</td>\n",
       "    </tr>\n",
       "    <tr>\n",
       "      <th>5</th>\n",
       "      <td>housing</td>\n",
       "      <td>0.000000</td>\n",
       "    </tr>\n",
       "    <tr>\n",
       "      <th>6</th>\n",
       "      <td>loan</td>\n",
       "      <td>0.000000</td>\n",
       "    </tr>\n",
       "  </tbody>\n",
       "</table>\n",
       "</div>"
      ],
      "text/plain": [
       "    Variable     Score\n",
       "4    default  0.094145\n",
       "0        age  0.000000\n",
       "1        job  0.000000\n",
       "2    marital  0.000000\n",
       "3  education  0.000000\n",
       "5    housing  0.000000\n",
       "6       loan  0.000000"
      ]
     },
     "execution_count": 37,
     "metadata": {},
     "output_type": "execute_result"
    }
   ],
   "source": [
    "r = permutation_importance(dtree_grid, X_test, y_test, n_repeats = 10, random_state = 123)\n",
    "pd.DataFrame({\"Variable\":X.columns, \"Score\":r.importances_mean}).sort_values(by = \"Score\", ascending = False)"
   ]
  },
  {
   "cell_type": "markdown",
   "id": "b0a765c8",
   "metadata": {},
   "source": [
    "### **Explore: KNearestNeighbor Classifier**"
   ]
  },
  {
   "cell_type": "code",
   "execution_count": 38,
   "id": "758b74be",
   "metadata": {},
   "outputs": [],
   "source": [
    "from sklearn.neighbors import KNeighborsClassifier\n",
    "start = time.time()\n",
    "knn = KNeighborsClassifier().fit(X_train, y_train)\n",
    "stop = time.time()\n",
    "knn_train_time = stop - start"
   ]
  },
  {
   "cell_type": "markdown",
   "id": "d9523ce4",
   "metadata": {},
   "source": [
    "**Compute the Train and Test MSEs**"
   ]
  },
  {
   "cell_type": "code",
   "execution_count": 39,
   "id": "e5a08357",
   "metadata": {},
   "outputs": [
    {
     "name": "stdout",
     "output_type": "stream",
     "text": [
      "Classification report for balanced classes \n",
      "               precision    recall  f1-score   support\n",
      "\n",
      "           0       0.76      0.67      0.71      7332\n",
      "           1       0.70      0.79      0.74      7288\n",
      "\n",
      "    accuracy                           0.73     14620\n",
      "   macro avg       0.73      0.73      0.73     14620\n",
      "weighted avg       0.73      0.73      0.73     14620\n",
      "\n",
      "KNN Train MSE: 0.23563513236199465\n",
      "KNN Test MSE: 0.2705198358413133\n"
     ]
    }
   ],
   "source": [
    "knn_train_preds = knn.predict(X_train)\n",
    "knn_test_preds = knn.predict(X_test)\n",
    "\n",
    "print('Classification report for balanced classes \\n',classification_report(y_test,knn_test_preds))\n",
    "\n",
    "\n",
    "knn_test_mse = mean_squared_error(knn_test_preds, y_test)\n",
    "knn_train_mse = mean_squared_error(knn_train_preds, y_train)\n",
    "\n",
    "print(\"KNN Train MSE:\", knn_train_mse)\n",
    "print(\"KNN Test MSE:\", knn_test_mse)"
   ]
  },
  {
   "cell_type": "code",
   "execution_count": 40,
   "id": "5cd8ca64",
   "metadata": {},
   "outputs": [
    {
     "data": {
      "text/plain": [
       "{'algorithm': 'auto',\n",
       " 'leaf_size': 30,\n",
       " 'metric': 'minkowski',\n",
       " 'metric_params': None,\n",
       " 'n_jobs': None,\n",
       " 'n_neighbors': 5,\n",
       " 'p': 2,\n",
       " 'weights': 'uniform'}"
      ]
     },
     "execution_count": 40,
     "metadata": {},
     "output_type": "execute_result"
    }
   ],
   "source": [
    "knn.get_params()"
   ]
  },
  {
   "cell_type": "markdown",
   "id": "bbe3e686",
   "metadata": {},
   "source": [
    "**Plot the confusion matrix**"
   ]
  },
  {
   "cell_type": "code",
   "execution_count": 41,
   "id": "1c54f686",
   "metadata": {},
   "outputs": [
    {
     "data": {
      "text/plain": [
       "<sklearn.metrics._plot.confusion_matrix.ConfusionMatrixDisplay at 0x20b66be9890>"
      ]
     },
     "execution_count": 41,
     "metadata": {},
     "output_type": "execute_result"
    },
    {
     "data": {
      "image/png": "[encoded data removed]",
      "text/plain": [
       "<Figure size 640x480 with 2 Axes>"
      ]
     },
     "metadata": {},
     "output_type": "display_data"
    }
   ],
   "source": [
    "ConfusionMatrixDisplay.from_estimator(knn,X_test,y_test)"
   ]
  },
  {
   "cell_type": "code",
   "execution_count": 42,
   "id": "4eae7dcf",
   "metadata": {},
   "outputs": [],
   "source": [
    "knn_tp = 5717\n",
    "knn_tn = 4869\n",
    "knn_fp = 2463\n",
    "knn_fn = 1571"
   ]
  },
  {
   "cell_type": "markdown",
   "id": "e2991efd",
   "metadata": {},
   "source": [
    "**Compute the accuracy, precision, recall and specificity**"
   ]
  },
  {
   "cell_type": "code",
   "execution_count": 43,
   "id": "34581e8b",
   "metadata": {},
   "outputs": [
    {
     "name": "stdout",
     "output_type": "stream",
     "text": [
      "Mean Fit Time:  0.20674533843994142\n",
      "KNN Train Score: 0.7643648676380054\n",
      "KNN Test Score: 0.7294801641586868\n",
      " \n",
      "Accuracy = \t 72.4076607387\n",
      "Precision = \t 69.8899755501\n",
      "Recall = \t 78.4440175631\n",
      "Specificity = \t 66.4075286416\n",
      " \n",
      "Train MSE: 0.23563513236199465\n",
      "Test MSE: 0.2705198358413133\n"
     ]
    }
   ],
   "source": [
    "leaf_size = [30,20,10]\n",
    "\n",
    "metric = ['minkowski']\n",
    "n_neighbors = [10, 5, 3, 2]\n",
    "grid = dict(leaf_size=leaf_size,metric=metric,n_neighbors=n_neighbors)\n",
    "\n",
    "knn_grid = GridSearchCV(knn, param_grid=grid, n_jobs=-1, scoring='accuracy',error_score=0).fit(X_train, y_train)\n",
    "knn_cv_res = knn_grid.cv_results_\n",
    "\n",
    "knn_mean_fit_time = knn_cv_res['mean_fit_time'][0]\n",
    "print(\"Mean Fit Time: \", knn_mean_fit_time)\n",
    "\n",
    "knn_grid_score_train = knn_grid.score(X_train, y_train)\n",
    "knn_grid_score_test = knn_grid.score(X_test, y_test)\n",
    "print(\"KNN Train Score:\", knn_grid_score_train)\n",
    "print(\"KNN Test Score:\", knn_grid_score_test)\n",
    "print(\" \")\n",
    "\n",
    "\n",
    "\n",
    "knn_acc = (knn_tp + knn_tn)/(knn_tp + knn_tn + knn_fp + knn_fn)*100\n",
    "knn_pre = (knn_tp)/(knn_tp + knn_fp)*100\n",
    "knn_rec = (knn_tp)/(knn_tp + knn_fn)*100\n",
    "knn_spe = (knn_tn)/(knn_tn + knn_fp)*100\n",
    "\n",
    "\n",
    "print(\"Accuracy = \\t\", \"{:.10f}\".format(knn_acc))\n",
    "print(\"Precision = \\t\", \"{:.10f}\".format(knn_pre))\n",
    "print(\"Recall = \\t\", \"{:.10f}\".format(knn_rec))\n",
    "print(\"Specificity = \\t\", \"{:.10f}\".format(knn_spe))\n",
    "print(\" \")\n",
    "print(\"Train MSE:\", knn_train_mse)\n",
    "print(\"Test MSE:\", knn_test_mse)\n"
   ]
  },
  {
   "cell_type": "markdown",
   "id": "c4565576",
   "metadata": {},
   "source": [
    "**Compute the feature importance using the permutation importance**"
   ]
  },
  {
   "cell_type": "code",
   "execution_count": 44,
   "id": "600af098",
   "metadata": {},
   "outputs": [
    {
     "data": {
      "text/html": [
       "<div>\n",
       "<style scoped>\n",
       "    .dataframe tbody tr th:only-of-type {\n",
       "        vertical-align: middle;\n",
       "    }\n",
       "\n",
       "    .dataframe tbody tr th {\n",
       "        vertical-align: top;\n",
       "    }\n",
       "\n",
       "    .dataframe thead th {\n",
       "        text-align: right;\n",
       "    }\n",
       "</style>\n",
       "<table border=\"1\" class=\"dataframe\">\n",
       "  <thead>\n",
       "    <tr style=\"text-align: right;\">\n",
       "      <th></th>\n",
       "      <th>Variable</th>\n",
       "      <th>Score</th>\n",
       "    </tr>\n",
       "  </thead>\n",
       "  <tbody>\n",
       "    <tr>\n",
       "      <th>0</th>\n",
       "      <td>age</td>\n",
       "      <td>0.22550</td>\n",
       "    </tr>\n",
       "    <tr>\n",
       "      <th>1</th>\n",
       "      <td>job</td>\n",
       "      <td>0.16650</td>\n",
       "    </tr>\n",
       "    <tr>\n",
       "      <th>3</th>\n",
       "      <td>education</td>\n",
       "      <td>0.12025</td>\n",
       "    </tr>\n",
       "    <tr>\n",
       "      <th>5</th>\n",
       "      <td>housing</td>\n",
       "      <td>0.09150</td>\n",
       "    </tr>\n",
       "    <tr>\n",
       "      <th>2</th>\n",
       "      <td>marital</td>\n",
       "      <td>0.06350</td>\n",
       "    </tr>\n",
       "    <tr>\n",
       "      <th>6</th>\n",
       "      <td>loan</td>\n",
       "      <td>0.05350</td>\n",
       "    </tr>\n",
       "    <tr>\n",
       "      <th>4</th>\n",
       "      <td>default</td>\n",
       "      <td>0.01975</td>\n",
       "    </tr>\n",
       "  </tbody>\n",
       "</table>\n",
       "</div>"
      ],
      "text/plain": [
       "    Variable    Score\n",
       "0        age  0.22550\n",
       "1        job  0.16650\n",
       "3  education  0.12025\n",
       "5    housing  0.09150\n",
       "2    marital  0.06350\n",
       "6       loan  0.05350\n",
       "4    default  0.01975"
      ]
     },
     "execution_count": 44,
     "metadata": {},
     "output_type": "execute_result"
    }
   ],
   "source": [
    "r = permutation_importance(knn_grid, X_test[:400], y_test[:400], n_repeats = 10, random_state = 42)\n",
    "pd.DataFrame({\"Variable\":X.columns, \"Score\":r.importances_mean}).sort_values(by = \"Score\", ascending = False)"
   ]
  },
  {
   "cell_type": "markdown",
   "id": "3d42773a",
   "metadata": {},
   "source": [
    "### **Explore: Support Vector Machines**"
   ]
  },
  {
   "cell_type": "code",
   "execution_count": 45,
   "id": "43aa0cd5",
   "metadata": {},
   "outputs": [],
   "source": [
    "X2 = X[:4000]\n",
    "y2 = y[:4000]\n",
    "\n",
    "X2, y2 = oversample.fit_resample(X2, y2)"
   ]
  },
  {
   "cell_type": "code",
   "execution_count": 46,
   "id": "fe4bd6e2",
   "metadata": {},
   "outputs": [],
   "source": [
    "X2_train, X2_test, y2_train, y2_test = train_test_split(X2, y2, random_state=42, test_size = 0.10)"
   ]
  },
  {
   "cell_type": "code",
   "execution_count": 47,
   "id": "660fd20c",
   "metadata": {},
   "outputs": [],
   "source": [
    "from sklearn.svm import SVC\n",
    "\n",
    "start = time.time()\n",
    "svc = SVC().fit(X2_train, y2_train)\n",
    "stop = time.time()\n",
    "svc_train_time = stop - start"
   ]
  },
  {
   "cell_type": "markdown",
   "id": "8b1ddb7f",
   "metadata": {},
   "source": [
    "**Compute the Train and Test MSEs**"
   ]
  },
  {
   "cell_type": "code",
   "execution_count": 48,
   "id": "010e33a4",
   "metadata": {},
   "outputs": [
    {
     "name": "stdout",
     "output_type": "stream",
     "text": [
      "Classification report for balanced classes \n",
      "               precision    recall  f1-score   support\n",
      "\n",
      "           0       0.70      0.50      0.58       405\n",
      "           1       0.58      0.76      0.66       373\n",
      "\n",
      "    accuracy                           0.63       778\n",
      "   macro avg       0.64      0.63      0.62       778\n",
      "weighted avg       0.64      0.63      0.62       778\n",
      "\n",
      "SVC Train MSE: 0.36842857142857144\n",
      "SVC Test MSE: 0.3740359897172236\n"
     ]
    }
   ],
   "source": [
    "svc_train_preds = svc.predict(X2_train)\n",
    "svc_test_preds = svc.predict(X2_test)\n",
    "\n",
    "print('Classification report for balanced classes \\n',classification_report(y2_test,svc_test_preds))\n",
    "\n",
    "\n",
    "svc_test_mse = mean_squared_error(svc_test_preds, y2_test)\n",
    "svc_train_mse = mean_squared_error(svc_train_preds, y2_train)\n",
    "\n",
    "print(\"SVC Train MSE:\", svc_train_mse)\n",
    "print(\"SVC Test MSE:\", svc_test_mse)"
   ]
  },
  {
   "cell_type": "code",
   "execution_count": 49,
   "id": "fed68609",
   "metadata": {},
   "outputs": [
    {
     "data": {
      "text/plain": [
       "{'C': 1.0,\n",
       " 'break_ties': False,\n",
       " 'cache_size': 200,\n",
       " 'class_weight': None,\n",
       " 'coef0': 0.0,\n",
       " 'decision_function_shape': 'ovr',\n",
       " 'degree': 3,\n",
       " 'gamma': 'scale',\n",
       " 'kernel': 'rbf',\n",
       " 'max_iter': -1,\n",
       " 'probability': False,\n",
       " 'random_state': None,\n",
       " 'shrinking': True,\n",
       " 'tol': 0.001,\n",
       " 'verbose': False}"
      ]
     },
     "execution_count": 49,
     "metadata": {},
     "output_type": "execute_result"
    }
   ],
   "source": [
    "svc.get_params()"
   ]
  },
  {
   "cell_type": "markdown",
   "id": "fd4218fd",
   "metadata": {},
   "source": [
    "**Plot the confusion matrix**"
   ]
  },
  {
   "cell_type": "code",
   "execution_count": 50,
   "id": "1c1e68ac",
   "metadata": {},
   "outputs": [
    {
     "data": {
      "text/plain": [
       "<sklearn.metrics._plot.confusion_matrix.ConfusionMatrixDisplay at 0x20b6738d310>"
      ]
     },
     "execution_count": 50,
     "metadata": {},
     "output_type": "execute_result"
    },
    {
     "data": {
      "image/png": "[encoded data removed]",
      "text/plain": [
       "<Figure size 640x480 with 2 Axes>"
      ]
     },
     "metadata": {},
     "output_type": "display_data"
    }
   ],
   "source": [
    "ConfusionMatrixDisplay.from_estimator(svc,X2_test,y2_test)"
   ]
  },
  {
   "cell_type": "code",
   "execution_count": 51,
   "id": "6de382ce",
   "metadata": {},
   "outputs": [],
   "source": [
    "svc_tp = 289\n",
    "svc_tn = 196\n",
    "svc_fp = 209\n",
    "svc_fn = 84"
   ]
  },
  {
   "cell_type": "markdown",
   "id": "a12a0d27",
   "metadata": {},
   "source": [
    "**Compute the accuracy, precision, recall and specificity**"
   ]
  },
  {
   "cell_type": "code",
   "execution_count": 52,
   "id": "aba4c03d",
   "metadata": {},
   "outputs": [
    {
     "name": "stdout",
     "output_type": "stream",
     "text": [
      "Mean Fit Time:  3.7178299903869627\n",
      "LogReg Train Score: 0.6338571428571429\n",
      "LogReg Test Score: 0.6401028277634961\n",
      " \n",
      "Accuracy = \t 62.3393316195\n",
      "Precision = \t 58.0321285141\n",
      "Recall = \t 77.4798927614\n",
      "Specificity = \t 48.3950617284\n",
      " \n",
      "SVC Train MSE: 0.36842857142857144\n",
      "SVC Test MSE: 0.3740359897172236\n"
     ]
    }
   ],
   "source": [
    "kernel = ['rbf']\n",
    "\n",
    "decision_function_shape = ['ovr']\n",
    "c_values = [10, 1.0, 0.1, 0.01]\n",
    "grid = dict(kernel=kernel,decision_function_shape=decision_function_shape,C=c_values)\n",
    "\n",
    "svc_grid = GridSearchCV(svc, param_grid=grid, n_jobs=-1, scoring='accuracy',error_score=0).fit(X2_train, y2_train)\n",
    "svc_cv_res = svc_grid.cv_results_\n",
    "\n",
    "svc_mean_fit_time = svc_cv_res['mean_fit_time'][0]\n",
    "print(\"Mean Fit Time: \", svc_mean_fit_time)\n",
    "\n",
    "svc_grid_score_train = svc_grid.score(X2_train, y2_train)\n",
    "svc_grid_score_test = svc_grid.score(X2_test, y2_test)\n",
    "print(\"LogReg Train Score:\", svc_grid_score_train)\n",
    "print(\"LogReg Test Score:\", svc_grid_score_test)\n",
    "print(\" \")\n",
    "\n",
    "\n",
    "svc_acc = (svc_tp + svc_tn)/(svc_tp + svc_tn + svc_fp + svc_fn)*100\n",
    "svc_pre = (svc_tp)/(svc_tp + svc_fp)*100\n",
    "svc_rec = (svc_tp)/(svc_tp + svc_fn)*100\n",
    "svc_spe = (svc_tn)/(svc_tn + svc_fp)*100\n",
    "\n",
    "\n",
    "print(\"Accuracy = \\t\", \"{:.10f}\".format(svc_acc))\n",
    "print(\"Precision = \\t\", \"{:.10f}\".format(svc_pre))\n",
    "print(\"Recall = \\t\", \"{:.10f}\".format(svc_rec))\n",
    "print(\"Specificity = \\t\", \"{:.10f}\".format(svc_spe))\n",
    "print(\" \")\n",
    "print(\"SVC Train MSE:\", svc_train_mse)\n",
    "print(\"SVC Test MSE:\", svc_test_mse)"
   ]
  },
  {
   "cell_type": "markdown",
   "id": "568d5d15",
   "metadata": {},
   "source": [
    "**Compute feature importance using the permutation importance**"
   ]
  },
  {
   "cell_type": "code",
   "execution_count": 53,
   "id": "752fd175",
   "metadata": {},
   "outputs": [
    {
     "data": {
      "text/html": [
       "<div>\n",
       "<style scoped>\n",
       "    .dataframe tbody tr th:only-of-type {\n",
       "        vertical-align: middle;\n",
       "    }\n",
       "\n",
       "    .dataframe tbody tr th {\n",
       "        vertical-align: top;\n",
       "    }\n",
       "\n",
       "    .dataframe thead th {\n",
       "        text-align: right;\n",
       "    }\n",
       "</style>\n",
       "<table border=\"1\" class=\"dataframe\">\n",
       "  <thead>\n",
       "    <tr style=\"text-align: right;\">\n",
       "      <th></th>\n",
       "      <th>Variable</th>\n",
       "      <th>Score</th>\n",
       "    </tr>\n",
       "  </thead>\n",
       "  <tbody>\n",
       "    <tr>\n",
       "      <th>4</th>\n",
       "      <td>default</td>\n",
       "      <td>0.121</td>\n",
       "    </tr>\n",
       "    <tr>\n",
       "      <th>0</th>\n",
       "      <td>age</td>\n",
       "      <td>0.031</td>\n",
       "    </tr>\n",
       "    <tr>\n",
       "      <th>3</th>\n",
       "      <td>education</td>\n",
       "      <td>0.019</td>\n",
       "    </tr>\n",
       "    <tr>\n",
       "      <th>6</th>\n",
       "      <td>loan</td>\n",
       "      <td>0.016</td>\n",
       "    </tr>\n",
       "    <tr>\n",
       "      <th>1</th>\n",
       "      <td>job</td>\n",
       "      <td>0.005</td>\n",
       "    </tr>\n",
       "    <tr>\n",
       "      <th>5</th>\n",
       "      <td>housing</td>\n",
       "      <td>0.005</td>\n",
       "    </tr>\n",
       "    <tr>\n",
       "      <th>2</th>\n",
       "      <td>marital</td>\n",
       "      <td>0.004</td>\n",
       "    </tr>\n",
       "  </tbody>\n",
       "</table>\n",
       "</div>"
      ],
      "text/plain": [
       "    Variable  Score\n",
       "4    default  0.121\n",
       "0        age  0.031\n",
       "3  education  0.019\n",
       "6       loan  0.016\n",
       "1        job  0.005\n",
       "5    housing  0.005\n",
       "2    marital  0.004"
      ]
     },
     "execution_count": 53,
     "metadata": {},
     "output_type": "execute_result"
    }
   ],
   "source": [
    "r = permutation_importance(svc_grid, X2_test[:100], y2_test[:100], n_repeats = 10, random_state = 123)\n",
    "pd.DataFrame({\"Variable\":X.columns, \"Score\":r.importances_mean}).sort_values(by = \"Score\", ascending = False)"
   ]
  },
  {
   "cell_type": "code",
   "execution_count": null,
   "id": "1340282b",
   "metadata": {},
   "outputs": [],
   "source": []
  },
  {
   "cell_type": "markdown",
   "id": "cf7e0e51",
   "metadata": {},
   "source": [
    "#### **Data Table of Values**"
   ]
  },
  {
   "cell_type": "code",
   "execution_count": 54,
   "id": "15387c27",
   "metadata": {},
   "outputs": [],
   "source": [
    "val_df = pd.DataFrame(columns = ['Model','Train Time', 'Train Score','Test Score','Mean fit time', 'Accuracy', 'Precision', 'Recall', 'Specificity', 'Train MSE', 'Test MSE'])"
   ]
  },
  {
   "cell_type": "code",
   "execution_count": 55,
   "id": "af49b92b",
   "metadata": {},
   "outputs": [],
   "source": [
    "val_df.loc[len(val_df.index)] = ['Logistic Regression', logreg_train_time, logreg_grid_score_train, logreg_grid_score_test, logreg_mean_fit_time, logreg_acc, logreg_pre, logreg_rec, logreg_spe, train_mse, test_mse] \n",
    "val_df.loc[len(val_df.index)] = ['Decision Tree', dtree_train_time, dtree_grid_score_train, dtree_grid_score_test, dtree_mean_fit_time, dtree_acc, dtree_pre, dtree_rec, dtree_spe, dtree_train_mse, dtree_test_mse]\n",
    "val_df.loc[len(val_df.index)] = ['KNearestNeighbors', knn_train_time, knn_grid_score_train, knn_grid_score_test, knn_mean_fit_time, knn_acc, knn_pre, knn_rec, knn_spe, knn_train_mse, knn_test_mse]\n",
    "val_df.loc[len(val_df.index)] = ['Support Vector Machine', svc_train_time, svc_grid_score_train, svc_grid_score_test, svc_mean_fit_time, svc_acc, svc_pre, svc_rec, svc_spe, svc_train_mse, svc_test_mse]\n"
   ]
  },
  {
   "cell_type": "code",
   "execution_count": 56,
   "id": "cf850c05",
   "metadata": {},
   "outputs": [
    {
     "data": {
      "text/html": [
       "<div>\n",
       "<style scoped>\n",
       "    .dataframe tbody tr th:only-of-type {\n",
       "        vertical-align: middle;\n",
       "    }\n",
       "\n",
       "    .dataframe tbody tr th {\n",
       "        vertical-align: top;\n",
       "    }\n",
       "\n",
       "    .dataframe thead th {\n",
       "        text-align: right;\n",
       "    }\n",
       "</style>\n",
       "<table border=\"1\" class=\"dataframe\">\n",
       "  <thead>\n",
       "    <tr style=\"text-align: right;\">\n",
       "      <th></th>\n",
       "      <th>Model</th>\n",
       "      <th>Train Time</th>\n",
       "      <th>Train Score</th>\n",
       "      <th>Test Score</th>\n",
       "      <th>Mean fit time</th>\n",
       "      <th>Accuracy</th>\n",
       "      <th>Precision</th>\n",
       "      <th>Recall</th>\n",
       "      <th>Specificity</th>\n",
       "      <th>Train MSE</th>\n",
       "      <th>Test MSE</th>\n",
       "    </tr>\n",
       "  </thead>\n",
       "  <tbody>\n",
       "    <tr>\n",
       "      <th>0</th>\n",
       "      <td>Logistic Regression</td>\n",
       "      <td>0.161075</td>\n",
       "      <td>0.595817</td>\n",
       "      <td>0.597127</td>\n",
       "      <td>0.244333</td>\n",
       "      <td>59.425445</td>\n",
       "      <td>56.136857</td>\n",
       "      <td>85.098793</td>\n",
       "      <td>33.906165</td>\n",
       "      <td>0.403157</td>\n",
       "      <td>0.400958</td>\n",
       "    </tr>\n",
       "    <tr>\n",
       "      <th>1</th>\n",
       "      <td>Decision Tree</td>\n",
       "      <td>0.159570</td>\n",
       "      <td>0.592106</td>\n",
       "      <td>0.591724</td>\n",
       "      <td>0.371192</td>\n",
       "      <td>75.923393</td>\n",
       "      <td>72.759121</td>\n",
       "      <td>82.642700</td>\n",
       "      <td>69.244408</td>\n",
       "      <td>0.187872</td>\n",
       "      <td>0.238714</td>\n",
       "    </tr>\n",
       "    <tr>\n",
       "      <th>2</th>\n",
       "      <td>KNearestNeighbors</td>\n",
       "      <td>0.147165</td>\n",
       "      <td>0.764365</td>\n",
       "      <td>0.729480</td>\n",
       "      <td>0.206745</td>\n",
       "      <td>72.407661</td>\n",
       "      <td>69.889976</td>\n",
       "      <td>78.444018</td>\n",
       "      <td>66.407529</td>\n",
       "      <td>0.235635</td>\n",
       "      <td>0.270520</td>\n",
       "    </tr>\n",
       "    <tr>\n",
       "      <th>3</th>\n",
       "      <td>Support Vector Machine</td>\n",
       "      <td>3.471462</td>\n",
       "      <td>0.633857</td>\n",
       "      <td>0.640103</td>\n",
       "      <td>3.717830</td>\n",
       "      <td>62.339332</td>\n",
       "      <td>58.032129</td>\n",
       "      <td>77.479893</td>\n",
       "      <td>48.395062</td>\n",
       "      <td>0.368429</td>\n",
       "      <td>0.374036</td>\n",
       "    </tr>\n",
       "  </tbody>\n",
       "</table>\n",
       "</div>"
      ],
      "text/plain": [
       "                    Model  Train Time  Train Score  Test Score  Mean fit time  \\\n",
       "0     Logistic Regression    0.161075     0.595817    0.597127       0.244333   \n",
       "1           Decision Tree    0.159570     0.592106    0.591724       0.371192   \n",
       "2       KNearestNeighbors    0.147165     0.764365    0.729480       0.206745   \n",
       "3  Support Vector Machine    3.471462     0.633857    0.640103       3.717830   \n",
       "\n",
       "    Accuracy  Precision     Recall  Specificity  Train MSE  Test MSE  \n",
       "0  59.425445  56.136857  85.098793    33.906165   0.403157  0.400958  \n",
       "1  75.923393  72.759121  82.642700    69.244408   0.187872  0.238714  \n",
       "2  72.407661  69.889976  78.444018    66.407529   0.235635  0.270520  \n",
       "3  62.339332  58.032129  77.479893    48.395062   0.368429  0.374036  "
      ]
     },
     "execution_count": 56,
     "metadata": {},
     "output_type": "execute_result"
    }
   ],
   "source": [
    "val_df"
   ]
  },
  {
   "cell_type": "markdown",
   "id": "2b29028d",
   "metadata": {},
   "source": [
    "### **Report**"
   ]
  },
  {
   "cell_type": "markdown",
   "id": "f7a8f14b",
   "metadata": {},
   "source": [
    "The Analysis of the Logistic Regress, Decision Tree Classifier, KNeighborsClassifier and the Support Vector Machines was performed according to the following criteria\n",
    "1. Imbalance Class Handling\n",
    "2. Model Training Speed\n",
    "3. Interpretable Results\n",
    "\n",
    "Other criteria observed include\n",
    "1. Accuracy\n",
    "2. Precision\n",
    "3. Recall\n",
    "4. Specificity\n",
    "5. Mean Squared Error"
   ]
  },
  {
   "cell_type": "markdown",
   "id": "ef254a5b",
   "metadata": {},
   "source": [
    "- **Logistic Regression Classifier**\n",
    "    - SMOTE was used to handle imbalanced classes\n",
    "    - Speed of Training is moderately high at 0.58s\n",
    "    - Train Score performs slightly better than the Test Score\n",
    "    - Accuracy and Specificity are not too high at 59. and 33.\n",
    "    - Precision is low at 56.%\n",
    "    - Recall is high at 85.%\n",
    "    - Train and Test MSEs are relatively equal\n",
    "- **Decision Tree Classifier**\n",
    "    - SMOTE was used to handle imbalanced classes\n",
    "    - Speed of Training is moderately high at 0.4s\n",
    "    - Accuracy and Specificity are very high at 75.9% and 69.2% respectively\n",
    "    - Train Score performs slightly better than the Test Score\n",
    "    - Precision is high at 72.7%\n",
    "    - Recall is low at 82.6%\n",
    "    - However, the Decision Tree Classifier appears to overfit as Train MSE is lower than Test MSE\n",
    "- **KNearest Neighbors Classifier**\n",
    "    - SMOTE was used to handle imbalanced classes\n",
    "    - Speed of Training is high at 0.45s\n",
    "    - Accuracy and Specificity are very high at 72% and 66% respectively\n",
    "    - Train Score is slightly higher than the Test Score\n",
    "    - Precision is high at 69.8%\n",
    "    - Recall is low at 78.4%\n",
    "    - However, the KNNeighbors Classifier appears to slightly overfit since Test MSE is higher than Train MSE\n",
    "    \n",
    "- **Support Vector Machine**\n",
    "    - SMOTE was used to handle imbalanced classes\n",
    "    - Speed of Training is least at 12s\n",
    "    - Accuracy and Specificity are very high at 62.8% and 48% respectively\n",
    "    - Test Score is lower than Train Score\n",
    "    - Precision is 58.%\n",
    "    - Recall is high at 77.%\n",
    "    - Train and Test MSE are relatively equal\n",
    "\n",
    "### **Select Best Model: Support Vector Machine**\n",
    "- The Support Vector Machine was selected as best model because the Train and Test MSEs are relatively equal."
   ]
  },
  {
   "cell_type": "markdown",
   "id": "85ca663a",
   "metadata": {},
   "source": [
    "## **Findings**"
   ]
  },
  {
   "cell_type": "markdown",
   "id": "6a93315c",
   "metadata": {},
   "source": [
    "### **Solution 1**\n",
    "- The data represents 17 marketing campaigns"
   ]
  },
  {
   "cell_type": "markdown",
   "id": "2531b252",
   "metadata": {},
   "source": [
    "### **The Business Objective**\n",
    "- The business objective is to predict if the client will subscribe (yes/no) a term deposit (variable y)."
   ]
  },
  {
   "cell_type": "markdown",
   "id": "149110b8",
   "metadata": {},
   "source": [
    "### **Findings**\n",
    "- Age, Loan and default strongly determines if a client will subscribe a term deposit\n",
    "- Customer's Housing, Marital Status, job and education play very little role in determining if a client will subscribe a term deposit\n",
    "\n",
    "### **Recommendation**\n",
    "- Focus on select customer age group for instance certain age group of customers are more likely to subscribe to a term deposit\n",
    "- Focus on customers who had previous loan as they are more likely to subscribe\n",
    "- Avoid Customers who have defaulted on a credit before since they pose a high risk\n",
    "- Customers with housing are less likely to subscribe to a term deposit"
   ]
  },
  {
   "cell_type": "code",
   "execution_count": null,
   "id": "3ee9797a",
   "metadata": {},
   "outputs": [],
   "source": []
  }
 ],
 "metadata": {
  "kernelspec": {
   "display_name": "Python 3 (ipykernel)",
   "language": "python",
   "name": "python3"
  },
  "language_info": {
   "codemirror_mode": {
    "name": "ipython",
    "version": 3
   },
   "file_extension": ".py",
   "mimetype": "text/x-python",
   "name": "python",
   "nbconvert_exporter": "python",
   "pygments_lexer": "ipython3",
   "version": "3.11.7"
  }
 },
 "nbformat": 4,
 "nbformat_minor": 5
}
